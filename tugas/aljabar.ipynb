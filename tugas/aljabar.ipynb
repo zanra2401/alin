{
 "cells": [
  {
   "cell_type": "markdown",
   "metadata": {},
   "source": [
    "# Aljabar Linear Matrik\n",
    "\n",
    "## Matrix\n",
    "\n",
    "- Matrix adalah sususan bilangan, simbol, atau expresi yang disusun dalam baris dan kolom [wikipedia matriks](https://id.wikipedia.org/wiki/Matriks_(matematika)), Contoh :  \n",
    "$\n",
    "\\begin{matrix}\n",
    "    \\\\\n",
    "    A = \\begin{bmatrix}\n",
    "        1 & 3 \\\\\n",
    "        2 & 1\n",
    "    \\end{bmatrix}\n",
    "    \\qquad\n",
    "    B = \\begin{bmatrix}\n",
    "        3 & 0 & 4 \\\\\n",
    "        -1 & -2 & 1\n",
    "    \\end{bmatrix}\n",
    "    \\qquad\n",
    "    C = \\begin{bmatrix}\n",
    "        1 \\\\ \n",
    "        3 \\\\\n",
    "        9\n",
    "    \\end{bmatrix}\n",
    "    \\\\\n",
    "    \\\\\n",
    "\\end{matrix}\n",
    "$\n",
    "- Dimensi atau ukuran matrix adalah baris x kolim, contoh matriks $B$ memili ukuran $2x3$ \n",
    "- Matriks yang hanya memiliki 1 kolom, seperti C, biasa disebut vektor. \n",
    "- Elemen matriks dinyatakan dengan huruf kecil dengan subskrip untuk menunjukkan posisi entri dalam matriks.  \n",
    "    - Contoh  $b_{12}$ adalah B baris 1 dan kolom 2, berarti $b_{12} = 0$  \n",
    "    - Secara umum, kita mungkin menggunakan variabel di subskrip, seperti $a_{ij}$ artinya elemen dari a baris $_I$ dan kolom $_j$\n",
    "\n"
   ]
  },
  {
   "cell_type": "code",
   "execution_count": 1,
   "metadata": {},
   "outputs": [
    {
     "name": "stdout",
     "output_type": "stream",
     "text": [
      "A =  [[1 3]\n",
      " [3 5]]\n",
      "\n",
      "B =  [[6 0 1 7]\n",
      " [8 9 7 6]\n",
      " [1 5 2 2]\n",
      " [2 8 4 5]]\n"
     ]
    }
   ],
   "source": [
    "# Membuat Matrix dengan numpy\n",
    "import numpy as np \n",
    "A = np.array([[1, 3], [3, 5]]) # matrix yang berukuran 2 x 2\n",
    "B = np.random.randint(10, size=(4,4)) # membuat matrix random dengan nilai element maximal 10 dan ukuran 4 x 4\n",
    "print(\"A = \", A)\n",
    "print()\n",
    "print(\"B = \", B)"
   ]
  }
 ],
 "metadata": {
  "kernelspec": {
   "display_name": "Python 3 (ipykernel)",
   "language": "python",
   "name": "python3"
  },
  "language_info": {
   "codemirror_mode": {
    "name": "ipython",
    "version": 3
   },
   "file_extension": ".py",
   "mimetype": "text/x-python",
   "name": "python",
   "nbconvert_exporter": "python",
   "pygments_lexer": "ipython3",
   "version": "3.11.2"
  }
 },
 "nbformat": 4,
 "nbformat_minor": 2
}
