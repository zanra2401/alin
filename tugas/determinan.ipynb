{
 "cells": [
  {
   "cell_type": "markdown",
   "metadata": {},
   "source": [
    "# Determinan\n",
    "determinan adalah nilai skalar yang dihasilkan fungsi dari entri-entri suatu matriks persegi. Determinan dari matriks A umumnya dinyatakan dengan notasi det(A), det A, atau |A|. Determinan dapat dianggap sebagai faktor penskalaan transformasi yang digambarkan oleh matriks. Nilai determinan mencirikan beberapa sifat dari matriks tersebut, dan peta linear yang diwakili oleh matriks tersebut."
   ]
  },
  {
   "cell_type": "markdown",
   "metadata": {},
   "source": [
    "## Sifat Sifat determinant\n",
    "\n"
   ]
  },
  {
   "cell_type": "code",
   "execution_count": 121,
   "metadata": {},
   "outputs": [],
   "source": [
    "def RowSwap(A,k,l):\n",
    "# =============================================================================\n",
    "#     A is a NumPy array.  RowSwap will return duplicate array with rows\n",
    "#     k and l swapped.\n",
    "# =============================================================================\n",
    "    m = A.shape[0]  # m is number of rows in A\n",
    "    n = A.shape[1]  # n is number of columns in A\n",
    "\n",
    "    B = np.copy(A).astype('float64')\n",
    "\n",
    "    for j in range(n):\n",
    "        temp = B[k][j]\n",
    "        B[k][j] = B[l][j]\n",
    "        B[l][j] = temp\n",
    "\n",
    "    return B\n",
    "\n",
    "def RowScale(A,k,scale):\n",
    "# =============================================================================\n",
    "#     A is a NumPy array.  RowScale will return duplicate array with the\n",
    "#     entries of row k multiplied by scale.\n",
    "# =============================================================================\n",
    "    m = A.shape[0]  # m is number of rows in A\n",
    "    n = A.shape[1]  # n is number of columns in A\n",
    "\n",
    "    B = np.copy(A).astype('float64')\n",
    "\n",
    "    for j in range(n):\n",
    "        B[k][j] *= scale\n",
    "\n",
    "    return B\n",
    "\n",
    "def RowAdd(A,k,l,scale):\n",
    "# =============================================================================\n",
    "#     A is a numpy array.  RowAdd will return duplicate array with row\n",
    "#     l modifed.  The new values will be the old values of row l added to\n",
    "#     the values of row k, multiplied by scale.\n",
    "# =============================================================================\n",
    "    m = A.shape[0]  # m is number of rows in A\n",
    "    n = A.shape[1]  # n is number of columns in A\n",
    "\n",
    "    B = np.copy(A).astype('float64')\n",
    "\n",
    "    for j in range(n):\n",
    "        B[l][j] += B[k][j]*scale\n",
    "\n",
    "    return B"
   ]
  },
  {
   "cell_type": "code",
   "execution_count": 122,
   "metadata": {},
   "outputs": [],
   "source": [
    "import numpy as np\n",
    "A = np.array([[2, 3], [2, -1]])\n",
    "B = np.array([[2,2,1], [2,1,2], [4,2,2]])\n",
    "C = np.array([[1,0], [0,1]])\n",
    "D = np.array([[1,0,0], [0,1,0], [0,0,1]])\n",
    "E = np.array([[1,4], [1,1]])\n",
    "F = np.array([[3,1], [2,1]])"
   ]
  },
  {
   "cell_type": "markdown",
   "metadata": {},
   "source": [
    "- Determinan dari matrix indentitas adalah 1"
   ]
  },
  {
   "cell_type": "code",
   "execution_count": 123,
   "metadata": {},
   "outputs": [
    {
     "name": "stdout",
     "output_type": "stream",
     "text": [
      "Matriks C = \n",
      " [[1 0]\n",
      " [0 1]] : determinan nya adalah 1.0\n",
      "\n",
      "Matriks D = \n",
      " [[1 0 0]\n",
      " [0 1 0]\n",
      " [0 0 1]] : determinan nya adalah 1.0\n"
     ]
    }
   ],
   "source": [
    "print(\"Matriks C = \\n\", C, \": determinan nya adalah\", np.linalg.det(C))\n",
    "print()\n",
    "print(\"Matriks D = \\n\", D,\": determinan nya adalah\", np.linalg.det(D))\n"
   ]
  },
  {
   "cell_type": "markdown",
   "metadata": {},
   "source": [
    "-\n",
    "$\n",
    "det(C) = det(AB) = de(A).det(B) \\\\\n",
    "det(I) = det(A).det(A^{-1}) \\\\\n",
    "det(A^{-1}) = 1/det(A) \\\\\n",
    "$"
   ]
  },
  {
   "cell_type": "code",
   "execution_count": 124,
   "metadata": {},
   "outputs": [
    {
     "name": "stdout",
     "output_type": "stream",
     "text": [
      "-3\n",
      "-3\n"
     ]
    }
   ],
   "source": [
    "G = np.dot(E, F)\n",
    "detE = np.linalg.det(E)\n",
    "detF = np.linalg.det(F)\n",
    "detE_F = detE * detF\n",
    "detG = np.linalg.det(G)\n",
    "print(round(detG))\n",
    "print(round(detE_F))"
   ]
  },
  {
   "cell_type": "code",
   "execution_count": 125,
   "metadata": {},
   "outputs": [
    {
     "name": "stdout",
     "output_type": "stream",
     "text": [
      "\n",
      "det(A) * det(B) :  1.0\n",
      "det(A) * det(B) :  1.0\n"
     ]
    }
   ],
   "source": [
    "print()\n",
    "A_inverse = np.linalg.inv(A)\n",
    "B_inverse = np.linalg.inv(B)\n",
    "detA = np.linalg.det(A)\n",
    "detB = np.linalg.det(B)\n",
    "detA_inverse = np.linalg.det(A_inverse)\n",
    "detB_inverse = np.linalg.det(B_inverse)\n",
    "print(\"det(A) * det(B) : \",np.dot(detA, detA_inverse))\n",
    "print(\"det(A) * det(B) : \",np.dot(detA, detA_inverse))"
   ]
  },
  {
   "cell_type": "markdown",
   "metadata": {},
   "source": [
    "- Menukar baris dan kolom pada matriks akan merubah tanda determinan"
   ]
  },
  {
   "cell_type": "code",
   "execution_count": 89,
   "metadata": {},
   "outputs": [
    {
     "name": "stdout",
     "output_type": "stream",
     "text": [
      "5\n",
      "-5\n",
      "-5\n"
     ]
    }
   ],
   "source": [
    "A = np.array([[1,4,2], [1,1,1], [3,2,1]])\n",
    "B = np.array([[4,1, 2], [1,1,1], [2,3,1]])\n",
    "detA = np.linalg.det(A)\n",
    "print(round(detA))\n",
    "A1 = RowSwap(A, 0, 1)\n",
    "detA1 = np.linalg.det(A1)\n",
    "detB1 = np.linalg.det(B)\n",
    "print(round(detA1))\n",
    "print(round(detB1))\n"
   ]
  },
  {
   "cell_type": "markdown",
   "metadata": {},
   "source": [
    "- jika matriks memiliki baris atau kolom kelipatan dari suatu baris atau kolom yang lain pada matriks maka determinan nya sama dengan 0"
   ]
  },
  {
   "cell_type": "code",
   "execution_count": 87,
   "metadata": {},
   "outputs": [
    {
     "name": "stdout",
     "output_type": "stream",
     "text": [
      "0.0\n",
      "0.0\n"
     ]
    }
   ],
   "source": [
    "A = np.array([[1,4,2], [2,8,4], [3,2,1]])\n",
    "B = np.array([[1,2,1], [4,8,4], [1,4,1]])\n",
    "detA = np.linalg.det(A)\n",
    "detB = np.linalg.det(B)\n",
    "print(detA)\n",
    "print(detB)"
   ]
  },
  {
   "cell_type": "markdown",
   "metadata": {},
   "source": [
    "- jika K merupakan Skalar maka dan A adalah matriks ukuran $_{nxn} maka $ $determinan(K A) \\space =\\space K^n * determinan(A)$\n",
    "- jika T merupakan Skalar dan A adalah matriks maka $determinan((K*A)[0]) \\space = \\space T * det(A)$"
   ]
  },
  {
   "cell_type": "code",
   "execution_count": 98,
   "metadata": {},
   "outputs": [
    {
     "name": "stdout",
     "output_type": "stream",
     "text": [
      "40.0\n",
      "40\n"
     ]
    }
   ],
   "source": [
    "K = 2\n",
    "A = np.array([[1,4,2], [1,1,1], [3,2,1]])\n",
    "K_A = np.dot(K, A)\n",
    "detA = np.linalg.det(A)\n",
    "detK_A = np.linalg.det(K_A)\n",
    "detK_AM = np.dot(2 ** 3, round(detA))\n",
    "print(detK_A)\n",
    "print(detK_AM)"
   ]
  },
  {
   "cell_type": "code",
   "execution_count": 103,
   "metadata": {},
   "outputs": [
    {
     "name": "stdout",
     "output_type": "stream",
     "text": [
      "[[2 8 4]]\n",
      "10\n"
     ]
    }
   ],
   "source": [
    "T = 2\n",
    "B = np.array([K_A[0]])\n",
    "print(B)\n",
    "detBM = np.dot(T, detA)\n",
    "print(round(detBM))"
   ]
  },
  {
   "cell_type": "code",
   "execution_count": 108,
   "metadata": {},
   "outputs": [
    {
     "name": "stdout",
     "output_type": "stream",
     "text": [
      "4.0\n",
      "4\n",
      "30\n",
      "30\n"
     ]
    }
   ],
   "source": [
    "A = np.array([[1,4,2], [0,4,1], [0,0,1]])\n",
    "B = np.array([[2,3,1,2], [0,1,2,1], [0,0,5,2], [0,0,0,3]])\n",
    "detA = np.linalg.det(A)\n",
    "detB = np.linalg.det(B)\n",
    "detAM = A[0][0] * A[1][1] * A[2][2]\n",
    "detBM = B[0][0] * B[1][1] * B[2][2] * B[3][3]\n",
    "print(detA)\n",
    "print(detAM)\n",
    "print(round(detB))\n",
    "print(detBM)"
   ]
  },
  {
   "cell_type": "markdown",
   "metadata": {},
   "source": [
    "- jika melakukan operasi baris elementer tidak akan merubah nilai determinan"
   ]
  },
  {
   "cell_type": "code",
   "execution_count": 116,
   "metadata": {},
   "outputs": [
    {
     "name": "stdout",
     "output_type": "stream",
     "text": [
      "5\n"
     ]
    }
   ],
   "source": [
    "A = np.array([[1,4,2], [1,1,1], [3,2,1]])\n",
    "A1 = RowAdd(A, 0, 1, -1)\n",
    "A2 = RowAdd(A1, 0, 2, -3)\n",
    "A3 = RowAdd(A2, 1,2, -1/3)\n",
    "A4 = RowAdd(A3, 1, 2, -3)\n",
    "detA4 = np.linalg.det(A4)\n",
    "print(round(detA4))"
   ]
  },
  {
   "cell_type": "markdown",
   "metadata": {},
   "source": [
    "- determinan A tranpose = determinan A\n",
    "$$\n",
    "det(A^T) = det(A)\n",
    "$$"
   ]
  },
  {
   "cell_type": "code",
   "execution_count": 120,
   "metadata": {},
   "outputs": [
    {
     "name": "stdout",
     "output_type": "stream",
     "text": [
      "5\n",
      "5\n"
     ]
    }
   ],
   "source": [
    "A = np.array([[1,4,2], [1,1,1], [3,2,1]])\n",
    "AT = A.transpose()\n",
    "detAT = np.linalg.det(AT)\n",
    "detA = np.linalg.det(A)\n",
    "print(round(detAT))\n",
    "print(round(detA))"
   ]
  }
 ],
 "metadata": {
  "kernelspec": {
   "display_name": "myvenv",
   "language": "python",
   "name": "python3"
  },
  "language_info": {
   "codemirror_mode": {
    "name": "ipython",
    "version": 3
   },
   "file_extension": ".py",
   "mimetype": "text/x-python",
   "name": "python",
   "nbconvert_exporter": "python",
   "pygments_lexer": "ipython3",
   "version": "3.11.2"
  }
 },
 "nbformat": 4,
 "nbformat_minor": 2
}
