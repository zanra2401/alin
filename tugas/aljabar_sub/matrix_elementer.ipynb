{
 "cells": [
  {
   "cell_type": "markdown",
   "metadata": {},
   "source": [
    "# Matrix elementer\n",
    "\n",
    "matrix elementer adalah matrix yang di dapat dari satu operasi baris elementer pada suatu matrix identitas seperti:  \n",
    "$\n",
    "\\begin{matrix} \\\\\n",
    "    \\begin{bmatrix}\n",
    "    1 & 0 & 0 \\\\\n",
    "    0 & 1 & 0 \\\\\n",
    "    0 & 0 & 1\n",
    "    \\end{bmatrix}\n",
    "    R_1 \\iff R_2 \\implies\n",
    "    \\begin{bmatrix}\n",
    "    0 & 1 & 0 \\\\\n",
    "    1 & 0 & 0 \\\\\n",
    "    0 & 0 & 1\n",
    "    \\end{bmatrix} \\\\\n",
    "    \\\\\n",
    "    \\begin{bmatrix}\n",
    "    1 & 0 & 0 \\\\\n",
    "    0 & 1 & 0 \\\\\n",
    "    0 & 0 & 1\n",
    "    \\end{bmatrix}\n",
    "    R_1 -7R_3 \\implies\n",
    "    \\begin{bmatrix}\n",
    "    1 & 0 & 0 \\\\\n",
    "    0 & 1 & 0 \\\\\n",
    "    -7 & 0 & 1\n",
    "    \\end{bmatrix}\n",
    "\\end{matrix} \\\\\n",
    "$\n",
    "\n",
    "matrix yang ditransformasikan kita nyatan sebagai E, jika E di kalikan ke kiri pada matrix A maka hasil EA akan sama seperti jika A di lakukan operasi baris elementer yang sama\n"
   ]
  },
  {
   "cell_type": "code",
   "execution_count": 2,
   "metadata": {},
   "outputs": [],
   "source": [
    "def RowSwap(A,k,l):\n",
    "# =============================================================================\n",
    "#     A is a NumPy array.  RowSwap will return duplicate array with rows\n",
    "#     k and l swapped.\n",
    "# =============================================================================\n",
    "    m = A.shape[0]  # m is number of rows in A\n",
    "    n = A.shape[1]  # n is number of columns in A\n",
    "\n",
    "    B = np.copy(A).astype('float64')\n",
    "\n",
    "    for j in range(n):\n",
    "        temp = B[k][j]\n",
    "        B[k][j] = B[l][j]\n",
    "        B[l][j] = temp\n",
    "\n",
    "    return B"
   ]
  },
  {
   "cell_type": "code",
   "execution_count": 3,
   "metadata": {},
   "outputs": [
    {
     "name": "stdout",
     "output_type": "stream",
     "text": [
      "E :  [[1. 0. 0.]\n",
      " [0. 0. 1.]\n",
      " [0. 1. 0.]]\n",
      "\n",
      "EA :  [[2. 3. 5.]\n",
      " [1. 2. 3.]\n",
      " [4. 2. 3.]]\n",
      "\n",
      "A1 :  [[2. 3. 5.]\n",
      " [1. 2. 3.]\n",
      " [4. 2. 3.]]\n",
      "\n",
      "Apakah A1 = EA? [[ True  True  True]\n",
      " [ True  True  True]\n",
      " [ True  True  True]]\n"
     ]
    }
   ],
   "source": [
    "import numpy as np\n",
    "\n",
    "matriks_identitas = np.array([[1,0,0], [0,1,0], [0,0,1]])\n",
    "\n",
    "E = RowSwap(matriks_identitas, 2, 1)\n",
    "\n",
    "A = np.array([[2,3,5], [4,2,3], [1,2,3]])\n",
    "\n",
    "EA = np.dot(E, A)\n",
    "\n",
    "A1 = RowSwap(A, 2, 1)\n",
    "\n",
    "print(\"E : \", E)\n",
    "print()\n",
    "print(\"EA : \", EA)\n",
    "print()\n",
    "print(\"A1 : \", A1)\n",
    "print()\n",
    "print(\"Apakah A1 = EA?\", EA == A1)\n",
    "\n"
   ]
  }
 ],
 "metadata": {
  "kernelspec": {
   "display_name": "myvenv",
   "language": "python",
   "name": "python3"
  },
  "language_info": {
   "codemirror_mode": {
    "name": "ipython",
    "version": 3
   },
   "file_extension": ".py",
   "mimetype": "text/x-python",
   "name": "python",
   "nbconvert_exporter": "python",
   "pygments_lexer": "ipython3",
   "version": "3.11.2"
  }
 },
 "nbformat": 4,
 "nbformat_minor": 2
}
