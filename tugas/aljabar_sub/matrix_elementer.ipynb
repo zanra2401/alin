{
 "cells": [
  {
   "cell_type": "markdown",
   "metadata": {},
   "source": [
    "# Matrix elementer\n",
    "\n",
    "matrix elementer adalah matrix yang di dapat dari satu operasi baris elementer pada suatu matrix identitas seperti:  \n",
    "$\n",
    "\\begin{matrix} \\\\\n",
    "    \\begin{bmatrix}\n",
    "    1 & 0 & 0 \\\\\n",
    "    0 & 1 & 0 \\\\\n",
    "    0 & 0 & 1\n",
    "    \\end{bmatrix}\n",
    "    R_1 \\iff R_2 \\implies\n",
    "    \\begin{bmatrix}\n",
    "    0 & 1 & 0 \\\\\n",
    "    1 & 0 & 0 \\\\\n",
    "    0 & 0 & 1\n",
    "    \\end{bmatrix} \\\\\n",
    "    \\\\\n",
    "    \\begin{bmatrix}\n",
    "    1 & 0 & 0 \\\\\n",
    "    0 & 1 & 0 \\\\\n",
    "    0 & 0 & 1\n",
    "    \\end{bmatrix}\n",
    "    R_1 -7R_3 \\implies\n",
    "    \\begin{bmatrix}\n",
    "    1 & 0 & 0 \\\\\n",
    "    0 & 1 & 0 \\\\\n",
    "    -7 & 0 & 1\n",
    "    \\end{bmatrix}\n",
    "\\end{matrix} \\\\\n",
    "$\n",
    "\n",
    "matrix yang ditransformasikan kita nyatan sebagai E, jika E di kalikan ke kiri pada matrix A maka hasil EA akan sama seperti jika A di lakukan operasi baris elementer yang sama\n"
   ]
  },
  {
   "cell_type": "code",
   "execution_count": 3,
   "metadata": {},
   "outputs": [],
   "source": [
    "def RowSwap(A,k,l):\n",
    "# =============================================================================\n",
    "#     A is a NumPy array.  RowSwap will return duplicate array with rows\n",
    "#     k and l swapped.\n",
    "# =============================================================================\n",
    "    m = A.shape[0]  # m is number of rows in A\n",
    "    n = A.shape[1]  # n is number of columns in A\n",
    "\n",
    "    B = np.copy(A).astype('float64')\n",
    "\n",
    "    for j in range(n):\n",
    "        temp = B[k][j]\n",
    "        B[k][j] = B[l][j]\n",
    "        B[l][j] = temp\n",
    "\n",
    "    return B"
   ]
  },
  {
   "cell_type": "code",
   "execution_count": 1,
   "metadata": {},
   "outputs": [
    {
     "ename": "NameError",
     "evalue": "name 'RowSwap' is not defined",
     "output_type": "error",
     "traceback": [
      "\u001b[0;31m---------------------------------------------------------------------------\u001b[0m",
      "\u001b[0;31mNameError\u001b[0m                                 Traceback (most recent call last)",
      "Cell \u001b[0;32mIn[1], line 5\u001b[0m\n\u001b[1;32m      1\u001b[0m \u001b[38;5;28;01mimport\u001b[39;00m \u001b[38;5;21;01mnumpy\u001b[39;00m \u001b[38;5;28;01mas\u001b[39;00m \u001b[38;5;21;01mnp\u001b[39;00m\n\u001b[1;32m      3\u001b[0m matriks_identitas \u001b[38;5;241m=\u001b[39m np\u001b[38;5;241m.\u001b[39marray([[\u001b[38;5;241m1\u001b[39m,\u001b[38;5;241m0\u001b[39m,\u001b[38;5;241m0\u001b[39m], [\u001b[38;5;241m0\u001b[39m,\u001b[38;5;241m1\u001b[39m,\u001b[38;5;241m0\u001b[39m], [\u001b[38;5;241m0\u001b[39m,\u001b[38;5;241m0\u001b[39m,\u001b[38;5;241m1\u001b[39m]])\n\u001b[0;32m----> 5\u001b[0m E \u001b[38;5;241m=\u001b[39m \u001b[43mRowSwap\u001b[49m(matriks_identitas, \u001b[38;5;241m2\u001b[39m, \u001b[38;5;241m1\u001b[39m)\n\u001b[1;32m      7\u001b[0m A \u001b[38;5;241m=\u001b[39m np\u001b[38;5;241m.\u001b[39marray([[\u001b[38;5;241m2\u001b[39m,\u001b[38;5;241m3\u001b[39m,\u001b[38;5;241m5\u001b[39m], [\u001b[38;5;241m4\u001b[39m,\u001b[38;5;241m2\u001b[39m,\u001b[38;5;241m3\u001b[39m], [\u001b[38;5;241m1\u001b[39m,\u001b[38;5;241m2\u001b[39m,\u001b[38;5;241m3\u001b[39m]])\n\u001b[1;32m      9\u001b[0m EA \u001b[38;5;241m=\u001b[39m np\u001b[38;5;241m.\u001b[39mdot(E, A)\n",
      "\u001b[0;31mNameError\u001b[0m: name 'RowSwap' is not defined"
     ]
    }
   ],
   "source": [
    "import numpy as np\n",
    "\n",
    "matriks_identitas = np.array([[1,0,0], [0,1,0], [0,0,1]])\n",
    "\n",
    "E = RowSwap(matriks_identitas, 2, 1)\n",
    "\n",
    "A = np.array([[2,3,5], [4,2,3], [1,2,3]])\n",
    "\n",
    "EA = np.dot(E, A)\n",
    "\n",
    "A1 = RowSwap(A, 2, 1)\n",
    "\n",
    "print(\"E : \", E)\n",
    "print()\n",
    "print(\"EA : \", EA)\n",
    "print()\n",
    "print(\"A1 : \", A1)\n",
    "print()\n",
    "print(\"Apakah A1 = EA?\", EA == A1)\n",
    "\n"
   ]
  }
 ],
 "metadata": {
  "kernelspec": {
   "display_name": "myvenv",
   "language": "python",
   "name": "python3"
  },
  "language_info": {
   "codemirror_mode": {
    "name": "ipython",
    "version": 3
   },
   "file_extension": ".py",
   "mimetype": "text/x-python",
   "name": "python",
   "nbconvert_exporter": "python",
   "pygments_lexer": "ipython3",
   "version": "3.11.2"
  }
 },
 "nbformat": 4,
 "nbformat_minor": 2
}
