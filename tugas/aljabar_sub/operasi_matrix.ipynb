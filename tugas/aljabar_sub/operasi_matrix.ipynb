{
 "cells": [
  {
   "cell_type": "markdown",
   "metadata": {},
   "source": [
    "# Operasi Operasi Matrix"
   ]
  },
  {
   "cell_type": "markdown",
   "metadata": {},
   "source": [
    "## 1. Matriks dalam bentuk apa pun dapat dikalikan dengan skalar c,d\n",
    "Hasilnya adalah semua elemen matriks dikalikan dengan skalar  \n",
    "Dengan menggunakan notasi dan subscript, kita akan tulis dengan :\n",
    "\n",
    "$\\hspace{1.6em} (cA)_{ij} = cA_{ij}$  \n",
    "$\\hspace{1.6em} (c + d)A = cA + dA$  \n",
    "$\\hspace{1.6em} c(dA) = (cd)A$  \n",
    "$\\hspace{1.6em} c(A + B) = cA + cB$  \n",
    "$\\hspace{1.6em} A \\space terdapat \\space -\\space A,sehingga\\space A + (-A) = 0$ "
   ]
  },
  {
   "cell_type": "code",
   "execution_count": 3,
   "metadata": {},
   "outputs": [
    {
     "name": "stdout",
     "output_type": "stream",
     "text": [
      "A =  [[1 3]\n",
      " [3 5]]\n",
      "skalar =  3\n",
      "\n",
      "A * skalar =  [[ 3  9]\n",
      " [ 9 15]]\n"
     ]
    }
   ],
   "source": [
    "import numpy as np # mengimport numpy librari dan meangalisakan nya dengan nama np\n",
    "\n",
    "A = np.array([[1, 3], [3, 5]]) # matrix yang berukuran 2 x 2\n",
    "skalar = 3\n",
    "print(\"A = \", A)\n",
    "print(\"skalar = \", skalar)\n",
    "print()\n",
    "\n",
    "print(\"A * skalar = \",A * skalar)"
   ]
  },
  {
   "cell_type": "markdown",
   "metadata": {},
   "source": [
    "## 2. Matriks yang ukuranya sama dapat di jumlahkan\n",
    "Hasilnya adalah semua elemen A ditambahkan dengan semua elemen B, dengan baris dan kolom yang sama \n",
    "  \n",
    "$\\hspace{1.6em} (A + C)_{ij} = a_{ij} + c_{ij}$  \n",
    "$\\hspace{1.6em} A + 0 = A \\space dimana \\space 0 \\space matrix \\space 0$  \n",
    "$\\hspace{1.6em} A + B = B + A$  \n",
    "$\\hspace{1.6em} (A + B) + C = A + (B + C)$"
   ]
  },
  {
   "cell_type": "code",
   "execution_count": 2,
   "metadata": {},
   "outputs": [
    {
     "name": "stdout",
     "output_type": "stream",
     "text": [
      "A: \n",
      " [[1 3]\n",
      " [3 5]]\n",
      "B: \n",
      " [[5 5]\n",
      " [8 3]]\n",
      "\n",
      "A + B: \n",
      " [[ 6  8]\n",
      " [11  8]]\n",
      "\n"
     ]
    }
   ],
   "source": [
    "import numpy as np # mengimport numpy librari dan meangalisakan nya dengan nama np\n",
    "\n",
    "A = np.array([[1, 3], [3, 5]]) # matrix yang berukuran 2 x 2\n",
    "B = np.random.randint(10, size=(2,2)) # membuat matrix random dengan nilai element maximal 10 dan ukuran 4 x 4 secara random\n",
    "\n",
    "print(\"A: \\n\", A)\n",
    "print(\"B: \\n\", B)\n",
    "print()\n",
    "\n",
    "# pastikan ukuran dari kedua matrix sama\n",
    "print(\"A + B: \\n\", A + B)\n",
    "print()"
   ]
  },
  {
   "cell_type": "markdown",
   "metadata": {},
   "source": [
    "## 3. Kolom dari Matrix A adalah sama dengan banyaknya baris di Matrix B Matrix dapat dikalikan\n",
    "Hasilnya adalah matrix $AB$ dengan baris sama dengan matrix $A$ dan kolom sama dengan matrix $B$, $(AB)_{ij}$ perkalian antara setiap element baris $A$ dikalikan setiap element kolom $B$\n",
    "  \n",
    "$\\hspace{1.6em} (AB)_{ij} =  \\sum_{k=1}^{n} a_{ik} b_{kj}$  \n",
    "  \n",
    "$\\hspace{1.6em}$ karakteristik perkalian matrix $A, B, C$\n",
    "\n",
    "$\\hspace{1.6em} \\cdotp $ $c(AB) = (cA)B = A(cB)$  \n",
    "$\\hspace{1.6em} \\cdotp $ $(AB)C = A(BC)$  \n",
    "$\\hspace{1.6em} \\cdotp $ $A(B + C) = AB + AC$  \n",
    "$\\hspace{1.6em} \\cdotp $ $(B + C)A = BA + CA$ \n",
    "```{note}\n",
    "di perkalian matrix tidak menerapkan hukum komutatif jadi $AB \\space \\neq \\space BA$\n",
    "```"
   ]
  },
  {
   "cell_type": "code",
   "execution_count": 10,
   "metadata": {},
   "outputs": [
    {
     "name": "stdout",
     "output_type": "stream",
     "text": [
      "A:  [[2 1 3]\n",
      " [2 1 2]]\n",
      "\n",
      "B:  [[1 3]\n",
      " [2 2]\n",
      " [1 2]]\n",
      "\n",
      "[[1, 2], [3, 2]]\n",
      "[[1, 2], [3, 2]]\n"
     ]
    }
   ],
   "source": [
    "import numpy as np\n",
    "\n",
    "A = np.array([[2,1,3], [2,1,2]])\n",
    "B = np.array([[1,3], [2,2], [1,2]])\n",
    "\n",
    "print(\"A: \", A)\n",
    "print()\n",
    "print(\"B: \", B)\n",
    "print()\n",
    "\n",
    "# KITA AKAN MEMBUAT SENDIRI KODE UNTUK MENGALIKAN MATRIX DAN AKAN MENCOCOKANYA DENGAN METHOD DARI numpy\n",
    "\n",
    "def multipleMatrix(A, B):\n",
    "    if A.shape[1] != B.shape[0]: # memastikan matrix memenuhi syarat perkalian matrix yaitu kolom A sama dengan baris B, agar tidak error\n",
    "        print(\"syarat tidak terpenuhi\")\n",
    "        return False\n",
    "    n = A.shape[1] # ini adalah menentukan nilai n seperti di rumus dapat menggunakan kolom matrix A atau menggunakan baris matrix B\n",
    "    res = [] # membuat array kosong untuk menampung hasilnya\n",
    "    for i in range(n): # melakukan iterasi untuk baris\n",
    "        row = [] # menampung setiap row\n",
    "        for j in range(n): # melakukan iterasi untuk kolom \n",
    "            e = 0 # menampung total setiap element\n",
    "            for k in range(n): # melakukan iterasi sesuai dengan rumus 0 - n\n",
    "                e = e + (A[i][k] * B[k][j]) # melakukan operasi sesuai rumus\n",
    "            row.append(e) # memasukan setiap total element ke row\n",
    "\n",
    "        res.append(row) # memasukan setiap row ke res\n",
    "    return res # hasil akan memiliki ukuran baris sama dengan baris dari kolom A dan kolom sama dengan kolom B\n",
    "\n",
    "matriks_identitas = np.array([[1,0,0], [0,1,0], [0,0,1]])\n",
    "C = np.array([[1,2,3], [3,2,1], [4,5,1]])\n",
    "print(multipleMatrix(C, matriks_identitas))\n",
    "print(multipleMatrix(matriks_identitas, C))\n"
   ]
  }
 ],
 "metadata": {
  "kernelspec": {
   "display_name": "myvenv",
   "language": "python",
   "name": "python3"
  },
  "language_info": {
   "codemirror_mode": {
    "name": "ipython",
    "version": 3
   },
   "file_extension": ".py",
   "mimetype": "text/x-python",
   "name": "python",
   "nbconvert_exporter": "python",
   "pygments_lexer": "ipython3",
   "version": "3.11.2"
  }
 },
 "nbformat": 4,
 "nbformat_minor": 2
}
