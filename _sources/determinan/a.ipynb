{
 "cells": [
  {
   "cell_type": "markdown",
   "metadata": {},
   "source": [
    "# TEST"
   ]
  },
  {
   "cell_type": "markdown",
   "metadata": {},
   "source": [
    "$T (p + q) = T(p) + T(q)$\n",
    "\n",
    "p = (1, 2)  \n",
    "q = (2, 3)  \n",
    "\n",
    "\n",
    "$\n",
    "    Fungsi \\space T = \n",
    "    \\left(\n",
    "        \\begin{bmatrix}\n",
    "            2a + b \\\\\n",
    "            a + b \\\\\n",
    "        \\end{bmatrix}\n",
    "    \\right)\n",
    "$\n",
    "\n",
    "$\n",
    "    T (p + q) =\n",
    "    \\begin{bmatrix}\n",
    "        2.(1 + 2) + (2 + 3) \\\\\n",
    "        (1+2) + (2+3) \\\\\n",
    "    \\end{bmatrix}\n",
    "    = \n",
    "    \\begin{bmatrix}\n",
    "        11\\\\\n",
    "        8\\\\\n",
    "    \\end{bmatrix}\n",
    "$  \n",
    "\n",
    "$\n",
    "    T(p) + T(q) = \n",
    "    \\begin{bmatrix}\n",
    "        2.1 + 2 \\\\\n",
    "        1 + 2 \\\\\n",
    "    \\end{bmatrix}\n",
    "    + \n",
    "    \\begin{bmatrix}\n",
    "        2.2 + 3 \\\\\n",
    "        2 + 3 \\\\\n",
    "    \\end{bmatrix}\n",
    "    =\n",
    "    \\begin{bmatrix}\n",
    "        7 \\\\\n",
    "        5 \\\\\n",
    "    \\end{bmatrix}\n",
    "    +\n",
    "    \\begin{bmatrix}\n",
    "        4 \\\\\n",
    "        3 \\\\\n",
    "    \\end{bmatrix}\n",
    "    =\n",
    "    \\begin{bmatrix}\n",
    "        11 \\\\\n",
    "        8 \\\\\n",
    "    \\end{bmatrix}\n",
    "$  \n",
    "\n",
    "Dapat di lihat di atas bahwa  \n",
    "  \n",
    "$T(p + q) = T(p) + T(q)$  "
   ]
  },
  {
   "cell_type": "markdown",
   "metadata": {},
   "source": []
  },
  {
   "cell_type": "markdown",
   "metadata": {},
   "source": []
  }
 ],
 "metadata": {
  "language_info": {
   "name": "python"
  }
 },
 "nbformat": 4,
 "nbformat_minor": 2
}
