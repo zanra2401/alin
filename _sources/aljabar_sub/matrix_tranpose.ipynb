{
 "cells": [
  {
   "cell_type": "markdown",
   "metadata": {},
   "source": [
    "# Matrix Transponse\n",
    "\n",
    "Transpose Matrix A adalah $A^T$, yang dimana kolom kolom kolom $A$ merupakan baris baris matrix $A^T$, $A_{kolom\\ baris}$ merupakan elemen tranpose dari $A$   \n",
    "$\n",
    "\\begin{matrix}\n",
    "    \\\\\n",
    "    A = \\begin{bmatrix}\n",
    "    3 & 4 & 5 \\\\\n",
    "    5 & 6 & 7 \\\\\n",
    "    3 & 4 & 5\n",
    "    \\end{bmatrix}\n",
    "    A^T = \\begin{bmatrix}\n",
    "    3 & 5 & 3 \\\\\n",
    "    4 & 6 & 4 \\\\\n",
    "    5 & 7 & 5 \n",
    "    \\end{bmatrix} \\\\\n",
    "\\end{matrix}\n",
    "$\n",
    "\n",
    "**Karakteristik Tranpose**\n",
    "\n",
    "$1.\\quad (A^T)^T = A$  \n",
    "$2.\\quad (A + B)^T = A^T + B^T$  \n",
    "$3.\\quad (cA)^T = cA^T$  \n",
    "$4.\\quad (AB)^T = A^T * B^T$ "
   ]
  },
  {
   "cell_type": "code",
   "execution_count": 4,
   "metadata": {},
   "outputs": [
    {
     "name": "stdout",
     "output_type": "stream",
     "text": [
      "A =  [[3 4 5]\n",
      " [5 6 7]\n",
      " [3 4 5]]\n",
      "\n",
      "A tranponse =  [[3 5 3]\n",
      " [4 6 4]\n",
      " [5 7 5]]\n"
     ]
    }
   ],
   "source": [
    "# mancari matrix tranpose menggunakan numpy\n",
    "\n",
    "import numpy as np\n",
    "A = np.array([[3,4,5], [5,6,7], [3,4,5]])\n",
    "\n",
    "A_transponse = A.transpose()\n",
    "\n",
    "print(\"A = \", A)\n",
    "print()\n",
    "print(\"A tranponse = \", A_transponse)"
   ]
  },
  {
   "cell_type": "markdown",
   "metadata": {},
   "source": [
    "## Matrix simetris dan Matrix skew simetris \n",
    "\n",
    "matrix simetris adalah matrix yang jika matrix A = $A^T$  \n",
    "matrix skew simetris adalah matrix yang matrix $A^T$ = -A  \n",
    "\n",
    "$\n",
    "\\begin{matrix}\n",
    "    Matrik \\space Simetris : \\quad\n",
    "    A   \\begin{bmatrix}\n",
    "            3 & 4 & 5 \\\\\n",
    "            4 & 7 & 6 \\\\\n",
    "            5 & 6 & 8\n",
    "        \\end{bmatrix} \\quad\n",
    "        = \\quad\n",
    "    A^T   \\begin{bmatrix}\n",
    "            3 & 4 & 5 \\\\\n",
    "            4 & 7 & 6 \\\\\n",
    "            5 & 6 & 8\n",
    "        \\end{bmatrix}\n",
    "\\end{matrix}\n",
    "$  \n",
    "\n",
    "$\n",
    "\\begin{matrix}\n",
    "    Matrik \\space Skew \\space Simetris : \\quad\n",
    "   A =  \\begin{bmatrix}\n",
    "    0 & 4 & 5 \\\\\n",
    "    -4 & 0 & 8 \\\\\n",
    "    -5 & -8 & 0\n",
    "    \\end{bmatrix}\n",
    "    A^T = \\begin{bmatrix}\n",
    "    0 & -4 & -5 \\\\\n",
    "    4 & 0 & -8 \\\\\n",
    "    5 & 8 & 0\n",
    "    \\end{bmatrix} = -A \n",
    "\\end{matrix}\n",
    "$"
   ]
  }
 ],
 "metadata": {
  "kernelspec": {
   "display_name": "myvenv",
   "language": "python",
   "name": "python3"
  },
  "language_info": {
   "codemirror_mode": {
    "name": "ipython",
    "version": 3
   },
   "file_extension": ".py",
   "mimetype": "text/x-python",
   "name": "python",
   "nbconvert_exporter": "python",
   "pygments_lexer": "ipython3",
   "version": "3.11.2"
  }
 },
 "nbformat": 4,
 "nbformat_minor": 2
}
