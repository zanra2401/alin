{
 "cells": [
  {
   "cell_type": "markdown",
   "metadata": {},
   "source": [
    "# Penyelesaian Sistem Persamaan Linear"
   ]
  },
  {
   "cell_type": "markdown",
   "metadata": {},
   "source": [
    "## menyelesaikan sistem linear menggunakan metode eliminasi gauss\n",
    "\n",
    "Eliminasi Gauss ([wikipedia](https://id.wikipedia.org/wiki/Eliminasi_Gauss#:~:text=Dalam%20matematika%2C%20eliminasi%20Gauss%20adalah%20algoritma,yang%20digunakan%20untuk%20menyelesaikan%20sistem%20persamaan%20linear.)) adalah algoritma yang di di gunakan untuk menyelsaikan sistem linear, algoritma ini mengubah bentuk persamaan tanpa merubah eliminasi Gauss adalah algoritma yang digunakan untuk menyelesaikan sistem persamaan linear. Algoritma ini terdiri dari serangkaian operasi yang di sebut operasi baris, dilakukan pada matriks koefisien dari sistem persamaan tersebut. Walau akan mengubah bentuk matriks, operasi-operasi tersebut tidak akan mengubah solusi dari sistem persamaan. Hal ini memungkinkan matriks koefisien dibentuk menjadi sebuah matriks segitiga atas, sehingga solusi sistem persamaan dapat ditentukan dengan cukup melakukan eliminasi variabel secara berulang.\n",
    "\n",
    "operasi baris yang dapat di lakukan:    \n",
    "- Tukarkan posisi kedua persamaan.\n",
    "- Kalikan persamaan dengan bilangan apa pun yang bukan nol.\n",
    "- Gantikan suatu persamaan dengan jumlah persamaan itu sendiri dan kelipatan persamaan lainnya.\n",
    "\n",
    "\n",
    "\n",
    "\n",
    "Contoh :\n",
    "\n",
    "$\n",
    "    2x_1 + 2x_2 = 9 \n",
    "    2x_1 + 4x_2 = 8  \n",
    "$\n",
    "\n",
    "agar membentuk segitiga atas kita perlu mengubah elemeb $matrix_{21}$ menjadi 0, kita akan melakukan operasi baris yaitu mengurangi baris 1 dengan baris 0  \n",
    "  \n",
    "$\n",
    "    \\begin{bmatrix}\n",
    "    2 & 2 \\quad | & 9\\\\\n",
    "    2 & 4 \\quad | & 8\n",
    "    \\end{bmatrix}\n",
    "    \\quad R0 - R1 \\implies\n",
    "    \\begin{bmatrix}\n",
    "    2 & 2 \\quad | & 9 \\\\\n",
    "    0 & 2 \\quad | & -1\n",
    "    \\end{bmatrix}\n",
    "$  \n",
    "  \n",
    "solusi :   \n",
    "- $0 + 2x_2 = -1 \\space \\implies \\space x_2 = -\\frac 12$\n",
    "- $2x_1 + 2 * -\\frac 12 = 9 \\space \\implies \\space x_1 = 5$\n",
    "\n",
    "$2 * 5 + 4 * (-\\frac 12) = 8 \\space \\implies \\space 10 - 2 = 8 \\space \\implies \\space 8 = 8$\n"
   ]
  },
  {
   "cell_type": "markdown",
   "metadata": {},
   "source": [
    "## Contoh menyelesaikan sistem linear 3 variable"
   ]
  },
  {
   "cell_type": "code",
   "execution_count": 1,
   "metadata": {},
   "outputs": [
    {
     "name": "stdout",
     "output_type": "stream",
     "text": [
      "[[ -1   8   4   7]\n",
      " [  5   7   8 -43]\n",
      " [ -5  -6 -10  61]]\n"
     ]
    }
   ],
   "source": [
    "import numpy as np\n",
    "# membuat sistem linear\n",
    "A = np.array([[-1,8,4,7], [5,7,8,-43],[-5,-6,-10,61]])\n",
    "\n",
    "print(A)"
   ]
  },
  {
   "cell_type": "code",
   "execution_count": 2,
   "metadata": {},
   "outputs": [],
   "source": [
    "def RowSwap(A,k,l):\n",
    "# =============================================================================\n",
    "#     A is a NumPy array.  RowSwap will return duplicate array with rows\n",
    "#     k and l swapped.\n",
    "# =============================================================================\n",
    "    m = A.shape[0]  # m is number of rows in A\n",
    "    n = A.shape[1]  # n is number of columns in A\n",
    "\n",
    "    B = np.copy(A).astype('float64')\n",
    "\n",
    "    for j in range(n):\n",
    "        temp = B[k][j]\n",
    "        B[k][j] = B[l][j]\n",
    "        B[l][j] = temp\n",
    "\n",
    "    return B\n",
    "\n",
    "def RowScale(A,k,scale):\n",
    "# =============================================================================\n",
    "#     A is a NumPy array.  RowScale will return duplicate array with the\n",
    "#     entries of row k multiplied by scale.\n",
    "# =============================================================================\n",
    "    m = A.shape[0]  # m is number of rows in A\n",
    "    n = A.shape[1]  # n is number of columns in A\n",
    "\n",
    "    B = np.copy(A).astype('float64')\n",
    "\n",
    "    for j in range(n):\n",
    "        B[k][j] *= scale\n",
    "\n",
    "    return B\n",
    "\n",
    "def RowAdd(A,k,l,scale):\n",
    "# =============================================================================\n",
    "#     A is a numpy array.  RowAdd will return duplicate array with row\n",
    "#     l modifed.  The new values will be the old values of row l added to\n",
    "#     the values of row k, multiplied by scale.\n",
    "# =============================================================================\n",
    "    m = A.shape[0]  # m is number of rows in A\n",
    "    n = A.shape[1]  # n is number of columns in A\n",
    "\n",
    "    B = np.copy(A).astype('float64')\n",
    "\n",
    "    for j in range(n):\n",
    "        B[l][j] += B[k][j]*scale\n",
    "\n",
    "    return B"
   ]
  },
  {
   "cell_type": "code",
   "execution_count": 3,
   "metadata": {},
   "outputs": [
    {
     "name": "stdout",
     "output_type": "stream",
     "text": [
      "[[ -1   8   4   7]\n",
      " [  5   7   8 -43]\n",
      " [ -5  -6 -10  61]] \n",
      "\n",
      "[[ -1.   8.   4.   7.]\n",
      " [  0.   1.  -2.  18.]\n",
      " [ -5.  -6. -10.  61.]] \n",
      "\n",
      "[[ -1.   8.   4.   7.]\n",
      " [  0.   1.  -2.  18.]\n",
      " [  0. -46. -30.  26.]] \n",
      "\n",
      "[[ -1.   8.   4.   7.]\n",
      " [  0.   1.  -2.  18.]\n",
      " [  0. -23. -15.  13.]] \n",
      "\n",
      "[[ -1.   8.   4.   7.]\n",
      " [  0.   1.  -2.  18.]\n",
      " [  0.   0. -61. 427.]] \n",
      "\n",
      "[[-1.  8.  4.  7.]\n",
      " [ 0.  1. -2. 18.]\n",
      " [-0. -0.  1. -7.]] \n",
      "\n"
     ]
    }
   ],
   "source": [
    "print(A, \"\\n\")\n",
    "\n",
    "A1 = RowAdd(A, 2,1,1)\n",
    "print(A1, \"\\n\")\n",
    "A2 = RowAdd(A1, 0, 2, -5)\n",
    "print(A2, \"\\n\")\n",
    "A3 = RowScale(A2, 2, 1/2)\n",
    "print(A3, \"\\n\")\n",
    "A4 = RowAdd(A3, 1, 2, 23)\n",
    "print(A4, \"\\n\")\n",
    "A5 = RowScale(A4, 2, -1/61)\n",
    "print(A5, \"\\n\")"
   ]
  },
  {
   "cell_type": "markdown",
   "metadata": {},
   "source": [
    "_persamaanya adalah:_\n",
    "\n",
    "$-1x_1 + 8x_2 + 4x_3 = 7$  \n",
    "$1x_2 - 2x_3 = 18$  \n",
    "$x_3 = -7$  \n"
   ]
  },
  {
   "cell_type": "code",
   "execution_count": 84,
   "metadata": {},
   "outputs": [
    {
     "name": "stdout",
     "output_type": "stream",
     "text": [
      "\n",
      "x1 = -3\n",
      "x2 =  4\n",
      "x3 = -7\n",
      "\n",
      "1. -1x1 + 8x2 + 4x3 = 7\n",
      "   -1x1 + 8x2 + 4x3 = 7\n",
      "2.  5x1 + 7x2 + 8x3 = -43\n",
      "    5x1 + 7x2 + 8x3 = -43\n",
      "3. -5x1 - 6x2 - 10x3 = 61\n",
      "   -5x1 - 6x2 - 10x3 = 61\n"
     ]
    }
   ],
   "source": [
    "x3 = -7\n",
    "x2 = 18 + (2 * x3)\n",
    "x1 = -(7 - (8 * x2) - (4 * x3))\n",
    "print(f\"\"\"\n",
    "x1 = {x1}\n",
    "x2 =  {x2}\n",
    "x3 = {x3}\n",
    "\"\"\")\n",
    "\n",
    "# kita akan membuktikanya solusinya apakah benar\n",
    "print(\"1. -1x1 + 8x2 + 4x3 = 7\")\n",
    "print(\"   -1x1 + 8x2 + 4x3 =\", (-1 * x1) + (8 * x2) + (4 * x3))\n",
    "print(\"2.  5x1 + 7x2 + 8x3 = -43\")\n",
    "print(\"    5x1 + 7x2 + 8x3 =\", (5 * x1) + (7 * x2) + (8 * x3))\n",
    "print(\"3. -5x1 - 6x2 - 10x3 = 61\")\n",
    "print(\"   -5x1 - 6x2 - 10x3 =\", (-5 * x1) - (6 * x2) - (10 * x3))\n"
   ]
  }
 ],
 "metadata": {
  "kernelspec": {
   "display_name": "myvenv",
   "language": "python",
   "name": "python3"
  },
  "language_info": {
   "codemirror_mode": {
    "name": "ipython",
    "version": 3
   },
   "file_extension": ".py",
   "mimetype": "text/x-python",
   "name": "python",
   "nbconvert_exporter": "python",
   "pygments_lexer": "ipython3",
   "version": "3.11.2"
  }
 },
 "nbformat": 4,
 "nbformat_minor": 2
}
